{
 "cells": [
  {
   "cell_type": "code",
   "execution_count": 102,
   "metadata": {},
   "outputs": [],
   "source": [
    "import pysam\n",
    "import numpy as np\n",
    "import pandas as pd"
   ]
  },
  {
   "cell_type": "markdown",
   "metadata": {},
   "source": [
    "Создаем dataframe"
   ]
  },
  {
   "cell_type": "code",
   "execution_count": 103,
   "metadata": {},
   "outputs": [
    {
     "data": {
      "text/html": [
       "<div>\n",
       "<style scoped>\n",
       "    .dataframe tbody tr th:only-of-type {\n",
       "        vertical-align: middle;\n",
       "    }\n",
       "\n",
       "    .dataframe tbody tr th {\n",
       "        vertical-align: top;\n",
       "    }\n",
       "\n",
       "    .dataframe thead th {\n",
       "        text-align: right;\n",
       "    }\n",
       "</style>\n",
       "<table border=\"1\" class=\"dataframe\">\n",
       "  <thead>\n",
       "    <tr style=\"text-align: right;\">\n",
       "      <th></th>\n",
       "      <th>rs#</th>\n",
       "      <th>chromosome</th>\n",
       "      <th>GB37_position</th>\n",
       "      <th>GB38_position</th>\n",
       "      <th>allele1</th>\n",
       "      <th>allele2</th>\n",
       "    </tr>\n",
       "  </thead>\n",
       "  <tbody>\n",
       "    <tr>\n",
       "      <th>0</th>\n",
       "      <td>2887286</td>\n",
       "      <td>1</td>\n",
       "      <td>1156131</td>\n",
       "      <td>1220751</td>\n",
       "      <td>C</td>\n",
       "      <td>T</td>\n",
       "    </tr>\n",
       "    <tr>\n",
       "      <th>1</th>\n",
       "      <td>6685064</td>\n",
       "      <td>1</td>\n",
       "      <td>1211292</td>\n",
       "      <td>1275912</td>\n",
       "      <td>T</td>\n",
       "      <td>C</td>\n",
       "    </tr>\n",
       "    <tr>\n",
       "      <th>2</th>\n",
       "      <td>2840528</td>\n",
       "      <td>1</td>\n",
       "      <td>2283896</td>\n",
       "      <td>2352457</td>\n",
       "      <td>A</td>\n",
       "      <td>G</td>\n",
       "    </tr>\n",
       "    <tr>\n",
       "      <th>3</th>\n",
       "      <td>3890745</td>\n",
       "      <td>1</td>\n",
       "      <td>2553624</td>\n",
       "      <td>2622185</td>\n",
       "      <td>C</td>\n",
       "      <td>T</td>\n",
       "    </tr>\n",
       "    <tr>\n",
       "      <th>4</th>\n",
       "      <td>1798246</td>\n",
       "      <td>1</td>\n",
       "      <td>3080855</td>\n",
       "      <td>3164291</td>\n",
       "      <td>C</td>\n",
       "      <td>A</td>\n",
       "    </tr>\n",
       "  </tbody>\n",
       "</table>\n",
       "</div>"
      ],
      "text/plain": [
       "       rs#  chromosome  GB37_position  GB38_position allele1 allele2\n",
       "0  2887286           1        1156131        1220751       C       T\n",
       "1  6685064           1        1211292        1275912       T       C\n",
       "2  2840528           1        2283896        2352457       A       G\n",
       "3  3890745           1        2553624        2622185       C       T\n",
       "4  1798246           1        3080855        3164291       C       A"
      ]
     },
     "execution_count": 103,
     "metadata": {},
     "output_type": "execute_result"
    }
   ],
   "source": [
    "data = pd.read_csv(\"FP_SNPs.txt\", sep='\\t')\n",
    "data.head()"
   ]
  },
  {
   "cell_type": "markdown",
   "metadata": {},
   "source": [
    "Преобразование файла FP_snps.txt к формату похожему по\n",
    "на VCF:"
   ]
  },
  {
   "cell_type": "code",
   "execution_count": 104,
   "metadata": {},
   "outputs": [
    {
     "name": "stdout",
     "output_type": "stream",
     "text": [
      "<class 'pandas.core.frame.DataFrame'>\n",
      "Int64Index: 10000 entries, 0 to 9999\n",
      "Data columns (total 5 columns):\n",
      " #   Column   Non-Null Count  Dtype \n",
      "---  ------   --------------  ----- \n",
      " 0   POS      10000 non-null  int64 \n",
      " 1   allele1  10000 non-null  object\n",
      " 2   allele2  10000 non-null  object\n",
      " 3   CHROM    10000 non-null  object\n",
      " 4   ID       10000 non-null  object\n",
      "dtypes: int64(1), object(4)\n",
      "memory usage: 468.8+ KB\n"
     ]
    }
   ],
   "source": [
    "data= data[data['chromosome']!=23]\n",
    "data = data.drop('GB37_position', axis=1)\n",
    "data['chromosome'] = data['chromosome'].astype(str)\n",
    "data['rs#'] = data['rs#'].astype(str)\n",
    "data['CHROM'] =  'chr'+data['chromosome']\n",
    "data = data.drop('chromosome', axis=1)\n",
    "data['ID'] =  'rs'+data['rs#']\n",
    "data = data.drop('rs#', axis=1)\n",
    "data = data.rename(columns={'GB38_position': 'POS'})\n",
    "data.info()"
   ]
  },
  {
   "cell_type": "markdown",
   "metadata": {},
   "source": [
    "Создаем fastafile"
   ]
  },
  {
   "cell_type": "code",
   "execution_count": 105,
   "metadata": {},
   "outputs": [],
   "source": [
    "fastafile = pysam.FastaFile('GRCh38.d1.vd1.fa')"
   ]
  },
  {
   "cell_type": "markdown",
   "metadata": {},
   "source": [
    "Создаем столбец REF"
   ]
  },
  {
   "cell_type": "code",
   "execution_count": 106,
   "metadata": {},
   "outputs": [
    {
     "name": "stderr",
     "output_type": "stream",
     "text": [
      "/var/folders/d_/y4m68ky157n56tm5fxmw5mth0000gn/T/ipykernel_56364/949429242.py:3: SettingWithCopyWarning: \n",
      "A value is trying to be set on a copy of a slice from a DataFrame\n",
      "\n",
      "See the caveats in the documentation: https://pandas.pydata.org/pandas-docs/stable/user_guide/indexing.html#returning-a-view-versus-a-copy\n",
      "  data['REF'][i] = fastafile.fetch(data['CHROM'][i], data['POS'][i], data['POS'][i] +1)\n"
     ]
    }
   ],
   "source": [
    "data['REF'] = np.zeros(len(data))\n",
    "for i in range(len(data)):\n",
    "    data['REF'][i] = fastafile.fetch(data['CHROM'][i], data['POS'][i], data['POS'][i] +1)"
   ]
  },
  {
   "cell_type": "markdown",
   "metadata": {},
   "source": [
    "Сравниваем аллели с референсными занчениями"
   ]
  },
  {
   "cell_type": "code",
   "execution_count": 107,
   "metadata": {},
   "outputs": [
    {
     "name": "stderr",
     "output_type": "stream",
     "text": [
      "/var/folders/d_/y4m68ky157n56tm5fxmw5mth0000gn/T/ipykernel_56364/3924278200.py:6: SettingWithCopyWarning: \n",
      "A value is trying to be set on a copy of a slice from a DataFrame\n",
      "\n",
      "See the caveats in the documentation: https://pandas.pydata.org/pandas-docs/stable/user_guide/indexing.html#returning-a-view-versus-a-copy\n",
      "  data['ALT'][i] = '0/0'\n"
     ]
    }
   ],
   "source": [
    "data['ALT'] = np.zeros(len(data))\n",
    "for i in range(len(data)):\n",
    "    if (data['REF'][i] == data['allele1'][i]) and (data['REF'][i] == data['allele2'][i]):\n",
    "        data['ALT'][i] = '1/1'\n",
    "    elif (data['REF'][i] != data['allele1'][i]) and (data['REF'][i] != data['allele2'][i]):\n",
    "        data['ALT'][i] = '0/0'\n",
    "    elif (data['REF'][i] != data['allele1'][i]) and (data['REF'][i] == data['allele2'][i]):\n",
    "        data['ALT'][i] = '0/1'\n",
    "    else:\n",
    "        data['ALT'][i] = '1/0'"
   ]
  },
  {
   "cell_type": "code",
   "execution_count": 108,
   "metadata": {},
   "outputs": [],
   "source": [
    "data = data.reindex(columns=['CHROM', 'POS', 'ID', 'REF', 'ALT', 'allele1', 'allele2'])"
   ]
  },
  {
   "cell_type": "markdown",
   "metadata": {},
   "source": [
    "Итоговая таблица"
   ]
  },
  {
   "cell_type": "code",
   "execution_count": 109,
   "metadata": {},
   "outputs": [
    {
     "data": {
      "text/html": [
       "<div>\n",
       "<style scoped>\n",
       "    .dataframe tbody tr th:only-of-type {\n",
       "        vertical-align: middle;\n",
       "    }\n",
       "\n",
       "    .dataframe tbody tr th {\n",
       "        vertical-align: top;\n",
       "    }\n",
       "\n",
       "    .dataframe thead th {\n",
       "        text-align: right;\n",
       "    }\n",
       "</style>\n",
       "<table border=\"1\" class=\"dataframe\">\n",
       "  <thead>\n",
       "    <tr style=\"text-align: right;\">\n",
       "      <th></th>\n",
       "      <th>CHROM</th>\n",
       "      <th>POS</th>\n",
       "      <th>ID</th>\n",
       "      <th>REF</th>\n",
       "      <th>ALT</th>\n",
       "      <th>allele1</th>\n",
       "      <th>allele2</th>\n",
       "    </tr>\n",
       "  </thead>\n",
       "  <tbody>\n",
       "    <tr>\n",
       "      <th>0</th>\n",
       "      <td>chr1</td>\n",
       "      <td>1220751</td>\n",
       "      <td>rs2887286</td>\n",
       "      <td>A</td>\n",
       "      <td>0/0</td>\n",
       "      <td>C</td>\n",
       "      <td>T</td>\n",
       "    </tr>\n",
       "    <tr>\n",
       "      <th>1</th>\n",
       "      <td>chr1</td>\n",
       "      <td>1275912</td>\n",
       "      <td>rs6685064</td>\n",
       "      <td>A</td>\n",
       "      <td>0/0</td>\n",
       "      <td>T</td>\n",
       "      <td>C</td>\n",
       "    </tr>\n",
       "    <tr>\n",
       "      <th>2</th>\n",
       "      <td>chr1</td>\n",
       "      <td>2352457</td>\n",
       "      <td>rs2840528</td>\n",
       "      <td>G</td>\n",
       "      <td>0/1</td>\n",
       "      <td>A</td>\n",
       "      <td>G</td>\n",
       "    </tr>\n",
       "    <tr>\n",
       "      <th>3</th>\n",
       "      <td>chr1</td>\n",
       "      <td>2622185</td>\n",
       "      <td>rs3890745</td>\n",
       "      <td>G</td>\n",
       "      <td>0/0</td>\n",
       "      <td>C</td>\n",
       "      <td>T</td>\n",
       "    </tr>\n",
       "    <tr>\n",
       "      <th>4</th>\n",
       "      <td>chr1</td>\n",
       "      <td>3164291</td>\n",
       "      <td>rs1798246</td>\n",
       "      <td>A</td>\n",
       "      <td>0/1</td>\n",
       "      <td>C</td>\n",
       "      <td>A</td>\n",
       "    </tr>\n",
       "  </tbody>\n",
       "</table>\n",
       "</div>"
      ],
      "text/plain": [
       "  CHROM      POS         ID REF  ALT allele1 allele2\n",
       "0  chr1  1220751  rs2887286   A  0/0       C       T\n",
       "1  chr1  1275912  rs6685064   A  0/0       T       C\n",
       "2  chr1  2352457  rs2840528   G  0/1       A       G\n",
       "3  chr1  2622185  rs3890745   G  0/0       C       T\n",
       "4  chr1  3164291  rs1798246   A  0/1       C       A"
      ]
     },
     "execution_count": 109,
     "metadata": {},
     "output_type": "execute_result"
    }
   ],
   "source": [
    "data.head(5)"
   ]
  }
 ],
 "metadata": {
  "kernelspec": {
   "display_name": "base",
   "language": "python",
   "name": "python3"
  },
  "language_info": {
   "codemirror_mode": {
    "name": "ipython",
    "version": 3
   },
   "file_extension": ".py",
   "mimetype": "text/x-python",
   "name": "python",
   "nbconvert_exporter": "python",
   "pygments_lexer": "ipython3",
   "version": "3.9.13"
  }
 },
 "nbformat": 4,
 "nbformat_minor": 2
}
